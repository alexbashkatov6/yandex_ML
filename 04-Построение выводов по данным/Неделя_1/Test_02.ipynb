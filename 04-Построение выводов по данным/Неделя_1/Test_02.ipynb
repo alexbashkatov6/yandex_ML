{
 "cells": [
  {
   "cell_type": "code",
   "execution_count": 1,
   "metadata": {},
   "outputs": [],
   "source": [
    "from statsmodels.stats.weightstats import _zconfint_generic, _tconfint_generic"
   ]
  },
  {
   "cell_type": "code",
   "execution_count": 2,
   "metadata": {},
   "outputs": [],
   "source": [
    "from scipy import stats"
   ]
  },
  {
   "cell_type": "code",
   "execution_count": null,
   "metadata": {},
   "outputs": [],
   "source": [
    "_zconfint_generic(sgd_mean, sqrt(0.25/len(sgd_auc_scores)),0.05, 'two-sided')"
   ]
  },
  {
   "cell_type": "code",
   "execution_count": null,
   "metadata": {},
   "outputs": [],
   "source": [
    "sgd_mean = sgd_auc_scores.mean()"
   ]
  },
  {
   "cell_type": "code",
   "execution_count": null,
   "metadata": {},
   "outputs": [],
   "source": [
    "sgd_mean_std = sgd_auc_scores.std(ddof=1)/sqrt(len(sgd_auc_scores))"
   ]
  },
  {
   "cell_type": "code",
   "execution_count": null,
   "metadata": {},
   "outputs": [],
   "source": [
    "_tconfint_generic(sgd_mean, sgd_mean_std,len(sgd_auc_scores) - 1,0.05, 'two-sided')"
   ]
  },
  {
   "cell_type": "code",
   "execution_count": 3,
   "metadata": {},
   "outputs": [
    {
     "data": {
      "text/plain": [
       "0.08222258891386608"
      ]
     },
     "execution_count": 3,
     "metadata": {},
     "output_type": "execute_result"
    }
   ],
   "source": [
    "# answer_01\n",
    "stats.binom_test(67, 100, 0.75, alternative = 'two-sided')"
   ]
  },
  {
   "cell_type": "code",
   "execution_count": 4,
   "metadata": {},
   "outputs": [
    {
     "data": {
      "text/plain": [
       "3.4831478978300243e-06"
      ]
     },
     "execution_count": 4,
     "metadata": {},
     "output_type": "execute_result"
    }
   ],
   "source": [
    "stats.binom_test(22, 50, 0.75, alternative = 'two-sided')"
   ]
  },
  {
   "cell_type": "code",
   "execution_count": 5,
   "metadata": {},
   "outputs": [],
   "source": [
    "import pandas as pd"
   ]
  },
  {
   "cell_type": "code",
   "execution_count": 8,
   "metadata": {},
   "outputs": [],
   "source": [
    "data=pd.read_csv(\"pines.txt\",sep=\"\\t\")"
   ]
  },
  {
   "cell_type": "code",
   "execution_count": 9,
   "metadata": {},
   "outputs": [
    {
     "data": {
      "text/html": [
       "<div>\n",
       "<style scoped>\n",
       "    .dataframe tbody tr th:only-of-type {\n",
       "        vertical-align: middle;\n",
       "    }\n",
       "\n",
       "    .dataframe tbody tr th {\n",
       "        vertical-align: top;\n",
       "    }\n",
       "\n",
       "    .dataframe thead th {\n",
       "        text-align: right;\n",
       "    }\n",
       "</style>\n",
       "<table border=\"1\" class=\"dataframe\">\n",
       "  <thead>\n",
       "    <tr style=\"text-align: right;\">\n",
       "      <th></th>\n",
       "      <th>sn</th>\n",
       "      <th>we</th>\n",
       "    </tr>\n",
       "  </thead>\n",
       "  <tbody>\n",
       "    <tr>\n",
       "      <td>0</td>\n",
       "      <td>200.0</td>\n",
       "      <td>8.8</td>\n",
       "    </tr>\n",
       "    <tr>\n",
       "      <td>1</td>\n",
       "      <td>199.3</td>\n",
       "      <td>10.0</td>\n",
       "    </tr>\n",
       "    <tr>\n",
       "      <td>2</td>\n",
       "      <td>193.6</td>\n",
       "      <td>22.4</td>\n",
       "    </tr>\n",
       "    <tr>\n",
       "      <td>3</td>\n",
       "      <td>167.7</td>\n",
       "      <td>35.6</td>\n",
       "    </tr>\n",
       "    <tr>\n",
       "      <td>4</td>\n",
       "      <td>183.9</td>\n",
       "      <td>45.4</td>\n",
       "    </tr>\n",
       "  </tbody>\n",
       "</table>\n",
       "</div>"
      ],
      "text/plain": [
       "      sn    we\n",
       "0  200.0   8.8\n",
       "1  199.3  10.0\n",
       "2  193.6  22.4\n",
       "3  167.7  35.6\n",
       "4  183.9  45.4"
      ]
     },
     "execution_count": 9,
     "metadata": {},
     "output_type": "execute_result"
    }
   ],
   "source": [
    "data.head()"
   ]
  },
  {
   "cell_type": "code",
   "execution_count": 10,
   "metadata": {},
   "outputs": [
    {
     "data": {
      "text/html": [
       "<div>\n",
       "<style scoped>\n",
       "    .dataframe tbody tr th:only-of-type {\n",
       "        vertical-align: middle;\n",
       "    }\n",
       "\n",
       "    .dataframe tbody tr th {\n",
       "        vertical-align: top;\n",
       "    }\n",
       "\n",
       "    .dataframe thead th {\n",
       "        text-align: right;\n",
       "    }\n",
       "</style>\n",
       "<table border=\"1\" class=\"dataframe\">\n",
       "  <thead>\n",
       "    <tr style=\"text-align: right;\">\n",
       "      <th></th>\n",
       "      <th>sn</th>\n",
       "      <th>we</th>\n",
       "    </tr>\n",
       "  </thead>\n",
       "  <tbody>\n",
       "    <tr>\n",
       "      <td>count</td>\n",
       "      <td>584.000000</td>\n",
       "      <td>584.000000</td>\n",
       "    </tr>\n",
       "    <tr>\n",
       "      <td>mean</td>\n",
       "      <td>98.735274</td>\n",
       "      <td>113.829281</td>\n",
       "    </tr>\n",
       "    <tr>\n",
       "      <td>std</td>\n",
       "      <td>56.523154</td>\n",
       "      <td>49.810725</td>\n",
       "    </tr>\n",
       "    <tr>\n",
       "      <td>min</td>\n",
       "      <td>0.000000</td>\n",
       "      <td>0.000000</td>\n",
       "    </tr>\n",
       "    <tr>\n",
       "      <td>25%</td>\n",
       "      <td>52.050000</td>\n",
       "      <td>79.125000</td>\n",
       "    </tr>\n",
       "    <tr>\n",
       "      <td>50%</td>\n",
       "      <td>101.450000</td>\n",
       "      <td>121.900000</td>\n",
       "    </tr>\n",
       "    <tr>\n",
       "      <td>75%</td>\n",
       "      <td>149.400000</td>\n",
       "      <td>149.725000</td>\n",
       "    </tr>\n",
       "    <tr>\n",
       "      <td>max</td>\n",
       "      <td>200.000000</td>\n",
       "      <td>200.000000</td>\n",
       "    </tr>\n",
       "  </tbody>\n",
       "</table>\n",
       "</div>"
      ],
      "text/plain": [
       "               sn          we\n",
       "count  584.000000  584.000000\n",
       "mean    98.735274  113.829281\n",
       "std     56.523154   49.810725\n",
       "min      0.000000    0.000000\n",
       "25%     52.050000   79.125000\n",
       "50%    101.450000  121.900000\n",
       "75%    149.400000  149.725000\n",
       "max    200.000000  200.000000"
      ]
     },
     "execution_count": 10,
     "metadata": {},
     "output_type": "execute_result"
    }
   ],
   "source": [
    "data.describe()"
   ]
  },
  {
   "cell_type": "code",
   "execution_count": 12,
   "metadata": {},
   "outputs": [
    {
     "name": "stdout",
     "output_type": "stream",
     "text": [
      "Help on function binned_statistic_2d in module scipy.stats._binned_statistic:\n",
      "\n",
      "binned_statistic_2d(x, y, values, statistic='mean', bins=10, range=None, expand_binnumbers=False)\n",
      "    Compute a bidimensional binned statistic for one or more sets of data.\n",
      "    \n",
      "    This is a generalization of a histogram2d function.  A histogram divides\n",
      "    the space into bins, and returns the count of the number of points in\n",
      "    each bin.  This function allows the computation of the sum, mean, median,\n",
      "    or other statistic of the values (or set of values) within each bin.\n",
      "    \n",
      "    Parameters\n",
      "    ----------\n",
      "    x : (N,) array_like\n",
      "        A sequence of values to be binned along the first dimension.\n",
      "    y : (N,) array_like\n",
      "        A sequence of values to be binned along the second dimension.\n",
      "    values : (N,) array_like or list of (N,) array_like\n",
      "        The data on which the statistic will be computed.  This must be\n",
      "        the same shape as `x`, or a list of sequences - each with the same\n",
      "        shape as `x`.  If `values` is such a list, the statistic will be\n",
      "        computed on each independently.\n",
      "    statistic : string or callable, optional\n",
      "        The statistic to compute (default is 'mean').\n",
      "        The following statistics are available:\n",
      "    \n",
      "          * 'mean' : compute the mean of values for points within each bin.\n",
      "            Empty bins will be represented by NaN.\n",
      "          * 'std' : compute the standard deviation within each bin. This \n",
      "            is implicitly calculated with ddof=0.\n",
      "          * 'median' : compute the median of values for points within each\n",
      "            bin. Empty bins will be represented by NaN.\n",
      "          * 'count' : compute the count of points within each bin.  This is\n",
      "            identical to an unweighted histogram.  `values` array is not\n",
      "            referenced.\n",
      "          * 'sum' : compute the sum of values for points within each bin.\n",
      "            This is identical to a weighted histogram.\n",
      "          * 'min' : compute the minimum of values for points within each bin.\n",
      "            Empty bins will be represented by NaN.\n",
      "          * 'max' : compute the maximum of values for point within each bin.\n",
      "            Empty bins will be represented by NaN.\n",
      "          * function : a user-defined function which takes a 1D array of\n",
      "            values, and outputs a single numerical statistic. This function\n",
      "            will be called on the values in each bin.  Empty bins will be\n",
      "            represented by function([]), or NaN if this returns an error.\n",
      "    \n",
      "    bins : int or [int, int] or array_like or [array, array], optional\n",
      "        The bin specification:\n",
      "    \n",
      "          * the number of bins for the two dimensions (nx = ny = bins),\n",
      "          * the number of bins in each dimension (nx, ny = bins),\n",
      "          * the bin edges for the two dimensions (x_edge = y_edge = bins),\n",
      "          * the bin edges in each dimension (x_edge, y_edge = bins).\n",
      "    \n",
      "        If the bin edges are specified, the number of bins will be,\n",
      "        (nx = len(x_edge)-1, ny = len(y_edge)-1).\n",
      "    \n",
      "    range : (2,2) array_like, optional\n",
      "        The leftmost and rightmost edges of the bins along each dimension\n",
      "        (if not specified explicitly in the `bins` parameters):\n",
      "        [[xmin, xmax], [ymin, ymax]]. All values outside of this range will be\n",
      "        considered outliers and not tallied in the histogram.\n",
      "    expand_binnumbers : bool, optional\n",
      "        'False' (default): the returned `binnumber` is a shape (N,) array of\n",
      "        linearized bin indices.\n",
      "        'True': the returned `binnumber` is 'unraveled' into a shape (2,N)\n",
      "        ndarray, where each row gives the bin numbers in the corresponding\n",
      "        dimension.\n",
      "        See the `binnumber` returned value, and the `Examples` section.\n",
      "    \n",
      "        .. versionadded:: 0.17.0\n",
      "    \n",
      "    Returns\n",
      "    -------\n",
      "    statistic : (nx, ny) ndarray\n",
      "        The values of the selected statistic in each two-dimensional bin.\n",
      "    x_edge : (nx + 1) ndarray\n",
      "        The bin edges along the first dimension.\n",
      "    y_edge : (ny + 1) ndarray\n",
      "        The bin edges along the second dimension.\n",
      "    binnumber : (N,) array of ints or (2,N) ndarray of ints\n",
      "        This assigns to each element of `sample` an integer that represents the\n",
      "        bin in which this observation falls.  The representation depends on the\n",
      "        `expand_binnumbers` argument.  See `Notes` for details.\n",
      "    \n",
      "    \n",
      "    See Also\n",
      "    --------\n",
      "    numpy.digitize, numpy.histogram2d, binned_statistic, binned_statistic_dd\n",
      "    \n",
      "    Notes\n",
      "    -----\n",
      "    Binedges:\n",
      "    All but the last (righthand-most) bin is half-open.  In other words, if\n",
      "    `bins` is ``[1, 2, 3, 4]``, then the first bin is ``[1, 2)`` (including 1,\n",
      "    but excluding 2) and the second ``[2, 3)``.  The last bin, however, is\n",
      "    ``[3, 4]``, which *includes* 4.\n",
      "    \n",
      "    `binnumber`:\n",
      "    This returned argument assigns to each element of `sample` an integer that\n",
      "    represents the bin in which it belongs.  The representation depends on the\n",
      "    `expand_binnumbers` argument. If 'False' (default): The returned\n",
      "    `binnumber` is a shape (N,) array of linearized indices mapping each\n",
      "    element of `sample` to its corresponding bin (using row-major ordering).\n",
      "    If 'True': The returned `binnumber` is a shape (2,N) ndarray where\n",
      "    each row indicates bin placements for each dimension respectively.  In each\n",
      "    dimension, a binnumber of `i` means the corresponding value is between\n",
      "    (D_edge[i-1], D_edge[i]), where 'D' is either 'x' or 'y'.\n",
      "    \n",
      "    .. versionadded:: 0.11.0\n",
      "    \n",
      "    Examples\n",
      "    --------\n",
      "    >>> from scipy import stats\n",
      "    \n",
      "    Calculate the counts with explicit bin-edges:\n",
      "    \n",
      "    >>> x = [0.1, 0.1, 0.1, 0.6]\n",
      "    >>> y = [2.1, 2.6, 2.1, 2.1]\n",
      "    >>> binx = [0.0, 0.5, 1.0]\n",
      "    >>> biny = [2.0, 2.5, 3.0]\n",
      "    >>> ret = stats.binned_statistic_2d(x, y, None, 'count', bins=[binx,biny])\n",
      "    >>> ret.statistic\n",
      "    array([[ 2.,  1.],\n",
      "           [ 1.,  0.]])\n",
      "    \n",
      "    The bin in which each sample is placed is given by the `binnumber`\n",
      "    returned parameter.  By default, these are the linearized bin indices:\n",
      "    \n",
      "    >>> ret.binnumber\n",
      "    array([5, 6, 5, 9])\n",
      "    \n",
      "    The bin indices can also be expanded into separate entries for each\n",
      "    dimension using the `expand_binnumbers` parameter:\n",
      "    \n",
      "    >>> ret = stats.binned_statistic_2d(x, y, None, 'count', bins=[binx,biny],\n",
      "    ...                                 expand_binnumbers=True)\n",
      "    >>> ret.binnumber\n",
      "    array([[1, 1, 1, 2],\n",
      "           [1, 2, 1, 1]])\n",
      "    \n",
      "    Which shows that the first three elements belong in the xbin 1, and the\n",
      "    fourth into xbin 2; and so on for y.\n",
      "\n"
     ]
    }
   ],
   "source": [
    "from scipy.stats import binned_statistic_2d\n",
    "help(binned_statistic_2d)"
   ]
  },
  {
   "cell_type": "code",
   "execution_count": 19,
   "metadata": {},
   "outputs": [],
   "source": [
    "import numpy as np\n",
    "bin_sn = np.linspace(0,200,6)\n",
    "bin_we = np.linspace(0,200,6)\n",
    "pine_counts=binned_statistic_2d(data.sn, data.we, None, 'count', bins=[bin_sn,bin_we]).statistic"
   ]
  },
  {
   "cell_type": "code",
   "execution_count": 20,
   "metadata": {},
   "outputs": [
    {
     "data": {
      "text/plain": [
       "array([[18., 26., 29., 25., 20.],\n",
       "       [14., 12., 22., 34., 25.],\n",
       "       [12., 24., 15., 50., 37.],\n",
       "       [ 8., 19., 31., 50.,  7.],\n",
       "       [ 7.,  8., 37., 27., 27.]])"
      ]
     },
     "execution_count": 20,
     "metadata": {},
     "output_type": "execute_result"
    }
   ],
   "source": [
    "pine_counts"
   ]
  },
  {
   "cell_type": "code",
   "execution_count": 22,
   "metadata": {},
   "outputs": [
    {
     "data": {
      "text/plain": [
       "584.0"
      ]
     },
     "execution_count": 22,
     "metadata": {},
     "output_type": "execute_result"
    }
   ],
   "source": [
    "sum(sum(pine_counts))"
   ]
  },
  {
   "cell_type": "code",
   "execution_count": 23,
   "metadata": {},
   "outputs": [
    {
     "data": {
      "text/plain": [
       "23.36"
      ]
     },
     "execution_count": 23,
     "metadata": {},
     "output_type": "execute_result"
    }
   ],
   "source": [
    "# answer_02\n",
    "sum(sum(pine_counts))/25"
   ]
  },
  {
   "cell_type": "code",
   "execution_count": 27,
   "metadata": {},
   "outputs": [
    {
     "name": "stdout",
     "output_type": "stream",
     "text": [
      "[18. 26. 29. 25. 20. 14. 12. 22. 34. 25. 12. 24. 15. 50. 37.  8. 19. 31.\n",
      " 50.  7.  7.  8. 37. 27. 27.]\n"
     ]
    }
   ],
   "source": [
    "observed_frequences=pine_counts.reshape(25,)\n",
    "print(observed_frequences)"
   ]
  },
  {
   "cell_type": "code",
   "execution_count": 28,
   "metadata": {},
   "outputs": [
    {
     "name": "stdout",
     "output_type": "stream",
     "text": [
      "[23.36, 23.36, 23.36, 23.36, 23.36, 23.36, 23.36, 23.36, 23.36, 23.36, 23.36, 23.36, 23.36, 23.36, 23.36, 23.36, 23.36, 23.36, 23.36, 23.36, 23.36, 23.36, 23.36, 23.36, 23.36]\n"
     ]
    }
   ],
   "source": [
    "expected_frequences=[sum(sum(pine_counts))/25]*25\n",
    "print(expected_frequences)"
   ]
  },
  {
   "cell_type": "code",
   "execution_count": 30,
   "metadata": {},
   "outputs": [
    {
     "data": {
      "text/plain": [
       "Power_divergenceResult(statistic=150.58904109589042, pvalue=2.574669774967279e-20)"
      ]
     },
     "execution_count": 30,
     "metadata": {},
     "output_type": "execute_result"
    }
   ],
   "source": [
    "# answer_03,04\n",
    "stats.chisquare(observed_frequences, expected_frequences, ddof = 0)"
   ]
  },
  {
   "cell_type": "code",
   "execution_count": null,
   "metadata": {},
   "outputs": [],
   "source": []
  }
 ],
 "metadata": {
  "kernelspec": {
   "display_name": "Python 3",
   "language": "python",
   "name": "python3"
  },
  "language_info": {
   "codemirror_mode": {
    "name": "ipython",
    "version": 3
   },
   "file_extension": ".py",
   "mimetype": "text/x-python",
   "name": "python",
   "nbconvert_exporter": "python",
   "pygments_lexer": "ipython3",
   "version": "3.7.4"
  }
 },
 "nbformat": 4,
 "nbformat_minor": 2
}
