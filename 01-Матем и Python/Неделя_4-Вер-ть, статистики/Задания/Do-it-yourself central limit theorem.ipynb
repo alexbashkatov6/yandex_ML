{
 "cells": [
  {
   "cell_type": "markdown",
   "metadata": {},
   "source": [
    "# ЦПТ своими руками"
   ]
  },
  {
   "cell_type": "code",
   "execution_count": 1,
   "metadata": {},
   "outputs": [],
   "source": [
    "import pandas as pd\n",
    "import numpy as np\n",
    "import matplotlib.pyplot as plt\n",
    "import scipy.stats as sts\n",
    "%matplotlib inline"
   ]
  },
  {
   "cell_type": "markdown",
   "metadata": {},
   "source": [
    "## Выбираем бета-распределение с параметрами (2,4)"
   ]
  },
  {
   "cell_type": "markdown",
   "metadata": {},
   "source": [
    "### 1. Формируем выборку, строим гистограмму и теоретическую плотность"
   ]
  },
  {
   "cell_type": "code",
   "execution_count": 2,
   "metadata": {},
   "outputs": [],
   "source": [
    "# генерация выборки\n",
    "sample=sts.beta.rvs(2,4,size=1000)"
   ]
  },
  {
   "cell_type": "code",
   "execution_count": 3,
   "metadata": {
    "scrolled": true
   },
   "outputs": [
    {
     "data": {
      "text/plain": [
       "Text(0.5, 0, '$x$')"
      ]
     },
     "execution_count": 3,
     "metadata": {},
     "output_type": "execute_result"
    },
    {
     "data": {
      "image/png": "[encoded data removed]",
      "text/plain": [
       "<Figure size 432x288 with 1 Axes>"
      ]
     },
     "metadata": {
      "needs_background": "light"
     },
     "output_type": "display_data"
    }
   ],
   "source": [
    "# построим гистограмму:\n",
    "plt.hist(sample, density=True, label='histogram')\n",
    "plt.ylabel('fraction of samples')\n",
    "plt.xlabel('$x$')\n",
    "\n",
    "# на том же графике построим теоретическую плотность распределения:\n",
    "x = np.linspace(0,1,100)\n",
    "pdf = sts.beta.pdf(x,2,4)\n",
    "plt.plot(x, pdf, label='theoretical pdf', alpha=0.5)#\n",
    "plt.legend()\n",
    "plt.ylabel('$f(x)$')\n",
    "plt.xlabel('$x$')"
   ]
  },
  {
   "cell_type": "markdown",
   "metadata": {},
   "source": [
    "### 2. Теоретические расчеты значений пар-ров нормального распределения по ЦПТ"
   ]
  },
  {
   "cell_type": "code",
   "execution_count": 4,
   "metadata": {},
   "outputs": [
    {
     "name": "stdout",
     "output_type": "stream",
     "text": [
      "матожидание= 0.3333333333333333 \n",
      "дисперсия= 0.031746031746031744\n"
     ]
    }
   ],
   "source": [
    "# матожидание и дисперсия бета-распределения с параметрами (2,4)\n",
    "EX=2/(2+4)\n",
    "DX=2*4/(2+4)**2/(2+4+1)\n",
    "print (\"матожидание=\",EX,\"\\nдисперсия=\",DX)"
   ]
  },
  {
   "cell_type": "code",
   "execution_count": 5,
   "metadata": {},
   "outputs": [
    {
     "name": "stdout",
     "output_type": "stream",
     "text": [
      "дисперсия и СКО:\n",
      "при n=5     Дисп= 0.006349206349206349 ;  СКО= 0.07968190728895957 \n",
      "при n=10    Дисп= 0.0031746031746031746 ;  СКО= 0.05634361698190111 \n",
      "при n=50    Дисп= 0.0006349206349206349 ;  СКО= 0.02519763153394848\n"
     ]
    }
   ],
   "source": [
    "# дисперсия для норм распр-й по ЦПТ для n=5,10,50:\n",
    "print (\"дисперсия и СКО:\\nпри n=5     Дисп=\",DX/5,\";  СКО=\",(DX/5)**0.5,\"\\nпри n=10    Дисп=\",DX/10,\";  СКО=\",(DX/10)**0.5,\"\\nпри n=50    Дисп=\",DX/50,\";  СКО=\",(DX/50)**0.5)"
   ]
  },
  {
   "cell_type": "code",
   "execution_count": 6,
   "metadata": {},
   "outputs": [],
   "source": [
    "# матожидание для норм распр-й по ЦПТ будет одинаково и равно EX=0.333"
   ]
  },
  {
   "cell_type": "markdown",
   "metadata": {},
   "source": [
    "### 3.1. Выборки объема 5 "
   ]
  },
  {
   "cell_type": "code",
   "execution_count": 7,
   "metadata": {},
   "outputs": [],
   "source": [
    "# n=5\n",
    "n=5\n",
    "\n",
    "# формируем 1000 выборок объема 5\n",
    "sample_5=np.array([sts.beta.rvs(2,4,size=n) for i in range(1000)])\n",
    "\n",
    "# рассчитываем МО в каждой строке\n",
    "mean_5=np.array([sample_5[i,:].mean() for i in range(1000)])"
   ]
  },
  {
   "cell_type": "code",
   "execution_count": 8,
   "metadata": {},
   "outputs": [
    {
     "data": {
      "text/plain": [
       "Text(0.5, 0, '$x$')"
      ]
     },
     "execution_count": 8,
     "metadata": {},
     "output_type": "execute_result"
    },
    {
     "data": {
      "image/png": "[encoded data removed]",
      "text/plain": [
       "<Figure size 432x288 with 1 Axes>"
      ]
     },
     "metadata": {
      "needs_background": "light"
     },
     "output_type": "display_data"
    }
   ],
   "source": [
    "# построим гистограмму и теоретич плотность:\n",
    "plt.hist(mean_5, density=True, label='histogram_5')\n",
    "plt.ylabel('fraction of samples')\n",
    "plt.xlabel('$x$')\n",
    "\n",
    "norm_rv = sts.norm(EX, (DX/n)**0.5)\n",
    "x = np.linspace(0,0.7,100)\n",
    "pdf = norm_rv.pdf(x)\n",
    "plt.plot(x, pdf, label='theoretical pdf', alpha=0.5)\n",
    "plt.legend()\n",
    "plt.ylabel('$f(x)$')\n",
    "plt.xlabel('$x$')"
   ]
  },
  {
   "cell_type": "markdown",
   "metadata": {},
   "source": [
    "### 3.2. Выборки объема 10"
   ]
  },
  {
   "cell_type": "code",
   "execution_count": 9,
   "metadata": {},
   "outputs": [],
   "source": [
    "# n=10\n",
    "n=10\n",
    "\n",
    "# формируем 1000 выборок объема 10\n",
    "sample_10=np.array([sts.beta.rvs(2,4,size=n) for i in range(1000)])\n",
    "\n",
    "# рассчитываем МО в каждой строке\n",
    "mean_10=np.array([sample_10[i,:].mean() for i in range(1000)])"
   ]
  },
  {
   "cell_type": "code",
   "execution_count": 10,
   "metadata": {},
   "outputs": [
    {
     "data": {
      "text/plain": [
       "Text(0.5, 0, '$x$')"
      ]
     },
     "execution_count": 10,
     "metadata": {},
     "output_type": "execute_result"
    },
    {
     "data": {
      "image/png": "[encoded data removed]",
      "text/plain": [
       "<Figure size 432x288 with 1 Axes>"
      ]
     },
     "metadata": {
      "needs_background": "light"
     },
     "output_type": "display_data"
    }
   ],
   "source": [
    "# построим гистограмму и теоретич плотность:\n",
    "plt.hist(mean_10, density=True, label='histogram_10')\n",
    "plt.ylabel('fraction of samples')\n",
    "plt.xlabel('$x$')\n",
    "\n",
    "norm_rv = sts.norm(EX, (DX/n)**0.5)\n",
    "x = np.linspace(0,0.7,100)\n",
    "pdf = norm_rv.pdf(x)\n",
    "plt.plot(x, pdf, label='theoretical pdf', alpha=0.5)\n",
    "plt.legend()\n",
    "plt.ylabel('$f(x)$')\n",
    "plt.xlabel('$x$')"
   ]
  },
  {
   "cell_type": "markdown",
   "metadata": {},
   "source": [
    "### 3.3. Выборки объема 50"
   ]
  },
  {
   "cell_type": "code",
   "execution_count": 11,
   "metadata": {},
   "outputs": [],
   "source": [
    "# n=50\n",
    "n=50\n",
    "\n",
    "# формируем 1000 выборок объема 10\n",
    "sample_50=np.array([sts.beta.rvs(2,4,size=n) for i in range(1000)])\n",
    "\n",
    "# рассчитываем МО в каждой строке\n",
    "mean_50=np.array([sample_50[i,:].mean() for i in range(1000)])"
   ]
  },
  {
   "cell_type": "code",
   "execution_count": 12,
   "metadata": {},
   "outputs": [
    {
     "data": {
      "text/plain": [
       "Text(0.5, 0, '$x$')"
      ]
     },
     "execution_count": 12,
     "metadata": {},
     "output_type": "execute_result"
    },
    {
     "data": {
      "image/png": "[encoded data removed]",
      "text/plain": [
       "<Figure size 432x288 with 1 Axes>"
      ]
     },
     "metadata": {
      "needs_background": "light"
     },
     "output_type": "display_data"
    }
   ],
   "source": [
    "# построим гистограмму и теоретич плотность:\n",
    "plt.hist(mean_50, density=True, label='histogram_50')\n",
    "plt.ylabel('fraction of samples')\n",
    "plt.xlabel('$x$')\n",
    "\n",
    "norm_rv = sts.norm(EX, (DX/n)**0.5)\n",
    "x = np.linspace(0,0.7,100)\n",
    "pdf = norm_rv.pdf(x)\n",
    "plt.plot(x, pdf, label='theoretical pdf', alpha=0.5)\n",
    "plt.legend()\n",
    "plt.ylabel('$f(x)$')\n",
    "plt.xlabel('$x$')"
   ]
  },
  {
   "cell_type": "markdown",
   "metadata": {},
   "source": [
    "## Выводы "
   ]
  },
  {
   "cell_type": "markdown",
   "metadata": {},
   "source": [
    "### 1. Выборочные гистограммы приблизительно совпадают с теоретическими законами распределения, это соответствует формулировке ЦПТ\n",
    "### 2. С ростом n разброс значений становится меньше, гистограммы сужаются и \"вытягиваются\" вверх.\n",
    "### 3. \"На глаз\": с ростом n относительная точность аппроксимации распределения выборочных средних нормальным не меняется."
   ]
  },
  {
   "cell_type": "code",
   "execution_count": null,
   "metadata": {},
   "outputs": [],
   "source": []
  }
 ],
 "metadata": {
  "kernelspec": {
   "display_name": "Python 3",
   "language": "python",
   "name": "python3"
  },
  "language_info": {
   "codemirror_mode": {
    "name": "ipython",
    "version": 3
   },
   "file_extension": ".py",
   "mimetype": "text/x-python",
   "name": "python",
   "nbconvert_exporter": "python",
   "pygments_lexer": "ipython3",
   "version": "3.7.1"
  }
 },
 "nbformat": 4,
 "nbformat_minor": 2
}
