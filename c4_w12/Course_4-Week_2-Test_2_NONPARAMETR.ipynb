{
 "cells": [
  {
   "cell_type": "code",
   "execution_count": 1,
   "metadata": {},
   "outputs": [],
   "source": [
    "# answ_1\n",
    "ans_1=\"indep\""
   ]
  },
  {
   "cell_type": "code",
   "execution_count": 2,
   "metadata": {},
   "outputs": [],
   "source": [
    "# answ_2\n",
    "ans_2=\"Fx1=Fx2\""
   ]
  },
  {
   "cell_type": "code",
   "execution_count": 3,
   "metadata": {},
   "outputs": [],
   "source": [
    "# answ_3\n",
    "ans_3=\\\n",
    "\"mann_uit = 1 \\\n",
    "perest+Cnn = 1 \\\n",
    "perest+2n = 0 \\\n",
    "znak_rank = 0 \\\n",
    "znak = 0 \\\n",
    "Student = 1\"\n",
    "        "
   ]
  },
  {
   "cell_type": "code",
   "execution_count": 4,
   "metadata": {},
   "outputs": [],
   "source": [
    "import numpy as np\n",
    "import pandas as pd\n",
    "from statsmodels.stats.descriptivestats import sign_test"
   ]
  },
  {
   "cell_type": "code",
   "execution_count": 5,
   "metadata": {},
   "outputs": [
    {
     "name": "stdout",
     "output_type": "stream",
     "text": [
      "M: -2, p-value: 0.343750\n"
     ]
    }
   ],
   "source": [
    "# znakov\n",
    "surv_list=np.array([49,58,75,110,112,132,151,276,281,362])\n",
    "print (\"M: %d, p-value: %f\" % sign_test(surv_list,200))"
   ]
  },
  {
   "cell_type": "code",
   "execution_count": 6,
   "metadata": {},
   "outputs": [],
   "source": [
    "from scipy import stats"
   ]
  },
  {
   "cell_type": "code",
   "execution_count": 7,
   "metadata": {},
   "outputs": [
    {
     "data": {
      "text/plain": [
       "WilcoxonResult(statistic=17.0, pvalue=0.2845026979112075)"
      ]
     },
     "execution_count": 7,
     "metadata": {},
     "output_type": "execute_result"
    }
   ],
   "source": [
    "# znakovih rangov\n",
    "stats.wilcoxon(surv_list - 200)"
   ]
  },
  {
   "cell_type": "code",
   "execution_count": 8,
   "metadata": {},
   "outputs": [],
   "source": [
    "# answ_4\n",
    "ans_4=0.2845"
   ]
  },
  {
   "cell_type": "code",
   "execution_count": 9,
   "metadata": {},
   "outputs": [],
   "source": [
    "wood_NO_chop=np.array([22,22,15,13,19,19,18,20,21,13,13,15])\n",
    "wood_YES_chop=np.array([17,18,18,15,12,4,14,15,10])"
   ]
  },
  {
   "cell_type": "code",
   "execution_count": 10,
   "metadata": {},
   "outputs": [
    {
     "data": {
      "text/plain": [
       "MannwhitneyuResult(statistic=27.0, pvalue=0.02900499272087373)"
      ]
     },
     "execution_count": 10,
     "metadata": {},
     "output_type": "execute_result"
    }
   ],
   "source": [
    "stats.mannwhitneyu(wood_NO_chop, wood_YES_chop)"
   ]
  },
  {
   "cell_type": "code",
   "execution_count": 11,
   "metadata": {},
   "outputs": [],
   "source": [
    "# answ_5\n",
    "ans_5=0.029"
   ]
  },
  {
   "cell_type": "code",
   "execution_count": 12,
   "metadata": {},
   "outputs": [],
   "source": [
    "challeng_data=pd.read_csv(\"challenger.txt\",sep=\"\\t\")"
   ]
  },
  {
   "cell_type": "code",
   "execution_count": 13,
   "metadata": {},
   "outputs": [
    {
     "data": {
      "text/html": [
       "<div>\n",
       "<style scoped>\n",
       "    .dataframe tbody tr th:only-of-type {\n",
       "        vertical-align: middle;\n",
       "    }\n",
       "\n",
       "    .dataframe tbody tr th {\n",
       "        vertical-align: top;\n",
       "    }\n",
       "\n",
       "    .dataframe thead th {\n",
       "        text-align: right;\n",
       "    }\n",
       "</style>\n",
       "<table border=\"1\" class=\"dataframe\">\n",
       "  <thead>\n",
       "    <tr style=\"text-align: right;\">\n",
       "      <th></th>\n",
       "      <th>Unnamed: 0</th>\n",
       "      <th>Temperature</th>\n",
       "      <th>Incident</th>\n",
       "    </tr>\n",
       "  </thead>\n",
       "  <tbody>\n",
       "    <tr>\n",
       "      <th>0</th>\n",
       "      <td>Apr12.81</td>\n",
       "      <td>18.9</td>\n",
       "      <td>0</td>\n",
       "    </tr>\n",
       "    <tr>\n",
       "      <th>1</th>\n",
       "      <td>Nov12.81</td>\n",
       "      <td>21.1</td>\n",
       "      <td>1</td>\n",
       "    </tr>\n",
       "    <tr>\n",
       "      <th>2</th>\n",
       "      <td>Mar22.82</td>\n",
       "      <td>20.6</td>\n",
       "      <td>0</td>\n",
       "    </tr>\n",
       "    <tr>\n",
       "      <th>3</th>\n",
       "      <td>Nov11.82</td>\n",
       "      <td>20.0</td>\n",
       "      <td>0</td>\n",
       "    </tr>\n",
       "    <tr>\n",
       "      <th>4</th>\n",
       "      <td>Apr04.83</td>\n",
       "      <td>19.4</td>\n",
       "      <td>0</td>\n",
       "    </tr>\n",
       "    <tr>\n",
       "      <th>5</th>\n",
       "      <td>Jun18.83</td>\n",
       "      <td>22.2</td>\n",
       "      <td>0</td>\n",
       "    </tr>\n",
       "    <tr>\n",
       "      <th>6</th>\n",
       "      <td>Aug30.83</td>\n",
       "      <td>22.8</td>\n",
       "      <td>0</td>\n",
       "    </tr>\n",
       "    <tr>\n",
       "      <th>7</th>\n",
       "      <td>Nov28.83</td>\n",
       "      <td>21.1</td>\n",
       "      <td>0</td>\n",
       "    </tr>\n",
       "    <tr>\n",
       "      <th>8</th>\n",
       "      <td>Feb03.84</td>\n",
       "      <td>13.9</td>\n",
       "      <td>1</td>\n",
       "    </tr>\n",
       "    <tr>\n",
       "      <th>9</th>\n",
       "      <td>Apr06.84</td>\n",
       "      <td>17.2</td>\n",
       "      <td>1</td>\n",
       "    </tr>\n",
       "    <tr>\n",
       "      <th>10</th>\n",
       "      <td>Aug30.84</td>\n",
       "      <td>21.1</td>\n",
       "      <td>1</td>\n",
       "    </tr>\n",
       "    <tr>\n",
       "      <th>11</th>\n",
       "      <td>Oct05.84</td>\n",
       "      <td>25.6</td>\n",
       "      <td>0</td>\n",
       "    </tr>\n",
       "    <tr>\n",
       "      <th>12</th>\n",
       "      <td>Nov08.84</td>\n",
       "      <td>19.4</td>\n",
       "      <td>0</td>\n",
       "    </tr>\n",
       "    <tr>\n",
       "      <th>13</th>\n",
       "      <td>Jan24.85</td>\n",
       "      <td>11.7</td>\n",
       "      <td>1</td>\n",
       "    </tr>\n",
       "    <tr>\n",
       "      <th>14</th>\n",
       "      <td>Apr12.85</td>\n",
       "      <td>19.4</td>\n",
       "      <td>0</td>\n",
       "    </tr>\n",
       "    <tr>\n",
       "      <th>15</th>\n",
       "      <td>Apr29.85</td>\n",
       "      <td>23.9</td>\n",
       "      <td>0</td>\n",
       "    </tr>\n",
       "    <tr>\n",
       "      <th>16</th>\n",
       "      <td>Jun17.85</td>\n",
       "      <td>21.1</td>\n",
       "      <td>0</td>\n",
       "    </tr>\n",
       "    <tr>\n",
       "      <th>17</th>\n",
       "      <td>Jul29.85</td>\n",
       "      <td>27.2</td>\n",
       "      <td>0</td>\n",
       "    </tr>\n",
       "    <tr>\n",
       "      <th>18</th>\n",
       "      <td>Aug27.85</td>\n",
       "      <td>24.4</td>\n",
       "      <td>0</td>\n",
       "    </tr>\n",
       "    <tr>\n",
       "      <th>19</th>\n",
       "      <td>Oct03.85</td>\n",
       "      <td>26.1</td>\n",
       "      <td>0</td>\n",
       "    </tr>\n",
       "    <tr>\n",
       "      <th>20</th>\n",
       "      <td>Oct30.85</td>\n",
       "      <td>23.9</td>\n",
       "      <td>1</td>\n",
       "    </tr>\n",
       "    <tr>\n",
       "      <th>21</th>\n",
       "      <td>Nov26.85</td>\n",
       "      <td>24.4</td>\n",
       "      <td>0</td>\n",
       "    </tr>\n",
       "    <tr>\n",
       "      <th>22</th>\n",
       "      <td>Jan12.86</td>\n",
       "      <td>14.4</td>\n",
       "      <td>1</td>\n",
       "    </tr>\n",
       "  </tbody>\n",
       "</table>\n",
       "</div>"
      ],
      "text/plain": [
       "   Unnamed: 0  Temperature  Incident\n",
       "0    Apr12.81         18.9         0\n",
       "1    Nov12.81         21.1         1\n",
       "2    Mar22.82         20.6         0\n",
       "3    Nov11.82         20.0         0\n",
       "4    Apr04.83         19.4         0\n",
       "5    Jun18.83         22.2         0\n",
       "6    Aug30.83         22.8         0\n",
       "7    Nov28.83         21.1         0\n",
       "8    Feb03.84         13.9         1\n",
       "9    Apr06.84         17.2         1\n",
       "10   Aug30.84         21.1         1\n",
       "11   Oct05.84         25.6         0\n",
       "12   Nov08.84         19.4         0\n",
       "13   Jan24.85         11.7         1\n",
       "14   Apr12.85         19.4         0\n",
       "15   Apr29.85         23.9         0\n",
       "16   Jun17.85         21.1         0\n",
       "17   Jul29.85         27.2         0\n",
       "18   Aug27.85         24.4         0\n",
       "19   Oct03.85         26.1         0\n",
       "20   Oct30.85         23.9         1\n",
       "21   Nov26.85         24.4         0\n",
       "22   Jan12.86         14.4         1"
      ]
     },
     "execution_count": 13,
     "metadata": {},
     "output_type": "execute_result"
    }
   ],
   "source": [
    "challeng_data"
   ]
  },
  {
   "cell_type": "code",
   "execution_count": 14,
   "metadata": {},
   "outputs": [],
   "source": [
    "np.random.seed(0)"
   ]
  },
  {
   "cell_type": "code",
   "execution_count": 15,
   "metadata": {},
   "outputs": [],
   "source": [
    "no_avary=challeng_data[challeng_data.Incident==0].Temperature\n",
    "yes_avary=challeng_data[challeng_data.Incident==1].Temperature"
   ]
  },
  {
   "cell_type": "code",
   "execution_count": 16,
   "metadata": {},
   "outputs": [],
   "source": [
    "#no_avary"
   ]
  },
  {
   "cell_type": "code",
   "execution_count": 17,
   "metadata": {},
   "outputs": [],
   "source": [
    "def permutation_t_stat_ind(sample1, sample2):\n",
    "    return np.mean(sample1) - np.mean(sample2)"
   ]
  },
  {
   "cell_type": "code",
   "execution_count": 18,
   "metadata": {},
   "outputs": [],
   "source": [
    "def get_random_combinations(n1, n2, max_combinations):\n",
    "    index = list(range(n1 + n2))\n",
    "    indices = set([tuple(index)])\n",
    "    for i in range(max_combinations - 1):\n",
    "        np.random.shuffle(index)\n",
    "        indices.add(tuple(index))\n",
    "    return [(index[:n1], index[n1:]) for index in indices]"
   ]
  },
  {
   "cell_type": "code",
   "execution_count": 19,
   "metadata": {},
   "outputs": [],
   "source": [
    "def permutation_zero_dist_ind(sample1, sample2, max_combinations = None):\n",
    "    joined_sample = np.hstack((sample1, sample2))\n",
    "    n1 = len(sample1)\n",
    "    n = len(joined_sample)\n",
    "    \n",
    "    if max_combinations:\n",
    "        indices = get_random_combinations(n1, len(sample2), max_combinations)\n",
    "    else:\n",
    "        indices = [(list(index), list(filter(lambda i: i not in index, range(n)))) \\\n",
    "                    for index in itertools.combinations(range(n), n1)]\n",
    "    \n",
    "    distr = [joined_sample[list(i[0])].mean() - joined_sample[list(i[1])].mean() \\\n",
    "             for i in indices]\n",
    "    return distr"
   ]
  },
  {
   "cell_type": "code",
   "execution_count": 20,
   "metadata": {},
   "outputs": [],
   "source": [
    "def permutation_test(sample, mean, max_permutations = None, alternative = 'two-sided'):\n",
    "    if alternative not in ('two-sided', 'less', 'greater'):\n",
    "        raise ValueError(\"alternative not recognized\\n\"\n",
    "                         \"should be 'two-sided', 'less' or 'greater'\")\n",
    "    \n",
    "    t_stat = permutation_t_stat_ind(sample, mean)\n",
    "    \n",
    "    zero_distr = permutation_zero_dist_ind(sample, mean, max_permutations)\n",
    "    \n",
    "    if alternative == 'two-sided':\n",
    "        return sum([1. if abs(x) >= abs(t_stat) else 0. for x in zero_distr]) / len(zero_distr)\n",
    "    \n",
    "    if alternative == 'less':\n",
    "        return sum([1. if x <= t_stat else 0. for x in zero_distr]) / len(zero_distr)\n",
    "\n",
    "    if alternative == 'greater':\n",
    "        return sum([1. if x >= t_stat else 0. for x in zero_distr]) / len(zero_distr)"
   ]
  },
  {
   "cell_type": "code",
   "execution_count": 45,
   "metadata": {},
   "outputs": [
    {
     "name": "stdout",
     "output_type": "stream",
     "text": [
      "p-value: 0.005700\n"
     ]
    }
   ],
   "source": [
    "np.random.seed(0)\n",
    "print(\"p-value: %f\" % permutation_test(yes_avary,no_avary , max_permutations = 10000))"
   ]
  },
  {
   "cell_type": "code",
   "execution_count": 22,
   "metadata": {},
   "outputs": [],
   "source": [
    "def get_bootstrap_samples(data, n_samples):\n",
    "    indices = np.random.randint(0, len(data), (n_samples, len(data)))\n",
    "    samples = data[indices]\n",
    "    return samples"
   ]
  },
  {
   "cell_type": "code",
   "execution_count": 23,
   "metadata": {},
   "outputs": [],
   "source": [
    "def get_bootstrap_samples(data, n_samples):\n",
    "    indices = np.random.randint(0, len(data), n_samples)\n",
    "    samples = data[indices]\n",
    "    return samples"
   ]
  },
  {
   "cell_type": "code",
   "execution_count": 24,
   "metadata": {},
   "outputs": [],
   "source": [
    "my_arr=np.array(no_avary)"
   ]
  },
  {
   "cell_type": "code",
   "execution_count": 25,
   "metadata": {},
   "outputs": [
    {
     "data": {
      "text/plain": [
       "(16,)"
      ]
     },
     "execution_count": 25,
     "metadata": {},
     "output_type": "execute_result"
    }
   ],
   "source": [
    "my_arr.shape"
   ]
  },
  {
   "cell_type": "code",
   "execution_count": 26,
   "metadata": {},
   "outputs": [
    {
     "data": {
      "text/plain": [
       "array([18.9, 20.6, 20. , 19.4, 22.2, 22.8, 21.1, 25.6, 19.4, 19.4, 23.9,\n",
       "       21.1, 27.2, 24.4, 26.1, 24.4])"
      ]
     },
     "execution_count": 26,
     "metadata": {},
     "output_type": "execute_result"
    }
   ],
   "source": [
    "#no_avary[:,0]\n",
    "no_avary.values"
   ]
  },
  {
   "cell_type": "code",
   "execution_count": 27,
   "metadata": {},
   "outputs": [],
   "source": [
    "np.random.seed(0)\n",
    "n_samples=1000\n",
    "bt_smp_no_avary=get_bootstrap_samples(no_avary.values, n_samples)\n",
    "bt_smp_yes_avary=get_bootstrap_samples(yes_avary.values, n_samples)"
   ]
  },
  {
   "cell_type": "code",
   "execution_count": 42,
   "metadata": {},
   "outputs": [],
   "source": [
    "#bt_smp_no_avary"
   ]
  },
  {
   "cell_type": "code",
   "execution_count": 29,
   "metadata": {},
   "outputs": [],
   "source": [
    "#bt_smp_yes_avary"
   ]
  },
  {
   "cell_type": "code",
   "execution_count": 30,
   "metadata": {},
   "outputs": [
    {
     "data": {
      "text/plain": [
       "(1000,)"
      ]
     },
     "execution_count": 30,
     "metadata": {},
     "output_type": "execute_result"
    }
   ],
   "source": [
    "bt_smp_no_avary.shape"
   ]
  },
  {
   "cell_type": "code",
   "execution_count": 31,
   "metadata": {},
   "outputs": [
    {
     "data": {
      "text/plain": [
       "(1000,)"
      ]
     },
     "execution_count": 31,
     "metadata": {},
     "output_type": "execute_result"
    }
   ],
   "source": [
    "bt_smp_yes_avary.shape"
   ]
  },
  {
   "cell_type": "code",
   "execution_count": 32,
   "metadata": {},
   "outputs": [],
   "source": [
    "#help(np.random.randint)"
   ]
  },
  {
   "cell_type": "code",
   "execution_count": 33,
   "metadata": {},
   "outputs": [],
   "source": [
    "delta=bt_smp_no_avary-bt_smp_yes_avary"
   ]
  },
  {
   "cell_type": "code",
   "execution_count": 34,
   "metadata": {},
   "outputs": [],
   "source": [
    "#delta"
   ]
  },
  {
   "cell_type": "code",
   "execution_count": 35,
   "metadata": {},
   "outputs": [],
   "source": [
    "def stat_intervals(stat, alpha):\n",
    "    boundaries = np.percentile(stat, [100 * alpha / 2., 100 * (1 - alpha / 2.)])#,keepdims=True\n",
    "    return boundaries"
   ]
  },
  {
   "cell_type": "code",
   "execution_count": 36,
   "metadata": {},
   "outputs": [
    {
     "data": {
      "text/plain": [
       "array([-4.5, 13.9])"
      ]
     },
     "execution_count": 36,
     "metadata": {},
     "output_type": "execute_result"
    }
   ],
   "source": [
    "stat_intervals(delta, 0.05)"
   ]
  },
  {
   "cell_type": "code",
   "execution_count": 37,
   "metadata": {},
   "outputs": [
    {
     "name": "stdout",
     "output_type": "stream",
     "text": [
      "Help on function percentile in module numpy:\n",
      "\n",
      "percentile(a, q, axis=None, out=None, overwrite_input=False, interpolation='linear', keepdims=False)\n",
      "    Compute the q-th percentile of the data along the specified axis.\n",
      "    \n",
      "    Returns the q-th percentile(s) of the array elements.\n",
      "    \n",
      "    Parameters\n",
      "    ----------\n",
      "    a : array_like\n",
      "        Input array or object that can be converted to an array.\n",
      "    q : array_like of float\n",
      "        Percentile or sequence of percentiles to compute, which must be between\n",
      "        0 and 100 inclusive.\n",
      "    axis : {int, tuple of int, None}, optional\n",
      "        Axis or axes along which the percentiles are computed. The\n",
      "        default is to compute the percentile(s) along a flattened\n",
      "        version of the array.\n",
      "    \n",
      "        .. versionchanged:: 1.9.0\n",
      "            A tuple of axes is supported\n",
      "    out : ndarray, optional\n",
      "        Alternative output array in which to place the result. It must\n",
      "        have the same shape and buffer length as the expected output,\n",
      "        but the type (of the output) will be cast if necessary.\n",
      "    overwrite_input : bool, optional\n",
      "        If True, then allow the input array `a` to be modified by intermediate\n",
      "        calculations, to save memory. In this case, the contents of the input\n",
      "        `a` after this function completes is undefined.\n",
      "    \n",
      "    interpolation : {'linear', 'lower', 'higher', 'midpoint', 'nearest'}\n",
      "        This optional parameter specifies the interpolation method to\n",
      "        use when the desired percentile lies between two data points\n",
      "        ``i < j``:\n",
      "    \n",
      "        * 'linear': ``i + (j - i) * fraction``, where ``fraction``\n",
      "          is the fractional part of the index surrounded by ``i``\n",
      "          and ``j``.\n",
      "        * 'lower': ``i``.\n",
      "        * 'higher': ``j``.\n",
      "        * 'nearest': ``i`` or ``j``, whichever is nearest.\n",
      "        * 'midpoint': ``(i + j) / 2``.\n",
      "    \n",
      "        .. versionadded:: 1.9.0\n",
      "    keepdims : bool, optional\n",
      "        If this is set to True, the axes which are reduced are left in\n",
      "        the result as dimensions with size one. With this option, the\n",
      "        result will broadcast correctly against the original array `a`.\n",
      "    \n",
      "        .. versionadded:: 1.9.0\n",
      "    \n",
      "    Returns\n",
      "    -------\n",
      "    percentile : scalar or ndarray\n",
      "        If `q` is a single percentile and `axis=None`, then the result\n",
      "        is a scalar. If multiple percentiles are given, first axis of\n",
      "        the result corresponds to the percentiles. The other axes are\n",
      "        the axes that remain after the reduction of `a`. If the input\n",
      "        contains integers or floats smaller than ``float64``, the output\n",
      "        data-type is ``float64``. Otherwise, the output data-type is the\n",
      "        same as that of the input. If `out` is specified, that array is\n",
      "        returned instead.\n",
      "    \n",
      "    See Also\n",
      "    --------\n",
      "    mean\n",
      "    median : equivalent to ``percentile(..., 50)``\n",
      "    nanpercentile\n",
      "    quantile : equivalent to percentile, except with q in the range [0, 1].\n",
      "    \n",
      "    Notes\n",
      "    -----\n",
      "    Given a vector ``V`` of length ``N``, the q-th percentile of\n",
      "    ``V`` is the value ``q/100`` of the way from the minimum to the\n",
      "    maximum in a sorted copy of ``V``. The values and distances of\n",
      "    the two nearest neighbors as well as the `interpolation` parameter\n",
      "    will determine the percentile if the normalized ranking does not\n",
      "    match the location of ``q`` exactly. This function is the same as\n",
      "    the median if ``q=50``, the same as the minimum if ``q=0`` and the\n",
      "    same as the maximum if ``q=100``.\n",
      "    \n",
      "    Examples\n",
      "    --------\n",
      "    >>> a = np.array([[10, 7, 4], [3, 2, 1]])\n",
      "    >>> a\n",
      "    array([[10,  7,  4],\n",
      "           [ 3,  2,  1]])\n",
      "    >>> np.percentile(a, 50)\n",
      "    3.5\n",
      "    >>> np.percentile(a, 50, axis=0)\n",
      "    array([6.5, 4.5, 2.5])\n",
      "    >>> np.percentile(a, 50, axis=1)\n",
      "    array([7.,  2.])\n",
      "    >>> np.percentile(a, 50, axis=1, keepdims=True)\n",
      "    array([[7.],\n",
      "           [2.]])\n",
      "    \n",
      "    >>> m = np.percentile(a, 50, axis=0)\n",
      "    >>> out = np.zeros_like(m)\n",
      "    >>> np.percentile(a, 50, axis=0, out=out)\n",
      "    array([6.5, 4.5, 2.5])\n",
      "    >>> m\n",
      "    array([6.5, 4.5, 2.5])\n",
      "    \n",
      "    >>> b = a.copy()\n",
      "    >>> np.percentile(b, 50, axis=1, overwrite_input=True)\n",
      "    array([7.,  2.])\n",
      "    >>> assert not np.all(a == b)\n",
      "    \n",
      "    The different types of interpolation can be visualized graphically:\n",
      "    \n",
      "    .. plot::\n",
      "    \n",
      "        import matplotlib.pyplot as plt\n",
      "    \n",
      "        a = np.arange(4)\n",
      "        p = np.linspace(0, 100, 6001)\n",
      "        ax = plt.gca()\n",
      "        lines = [\n",
      "            ('linear', None),\n",
      "            ('higher', '--'),\n",
      "            ('lower', '--'),\n",
      "            ('nearest', '-.'),\n",
      "            ('midpoint', '-.'),\n",
      "        ]\n",
      "        for interpolation, style in lines:\n",
      "            ax.plot(\n",
      "                p, np.percentile(a, p, interpolation=interpolation),\n",
      "                label=interpolation, linestyle=style)\n",
      "        ax.set(\n",
      "            title='Interpolation methods for list: ' + str(a),\n",
      "            xlabel='Percentile',\n",
      "            ylabel='List item returned',\n",
      "            yticks=a)\n",
      "        ax.legend()\n",
      "        plt.show()\n",
      "\n"
     ]
    }
   ],
   "source": [
    "help(np.percentile)"
   ]
  },
  {
   "cell_type": "code",
   "execution_count": 38,
   "metadata": {},
   "outputs": [],
   "source": [
    "# answ_6 - no good answer\n",
    "ans_6=-4.5\n",
    "ans_6_2=4.5"
   ]
  },
  {
   "cell_type": "code",
   "execution_count": 39,
   "metadata": {},
   "outputs": [
    {
     "name": "stdout",
     "output_type": "stream",
     "text": [
      "p-value: 0.000100\n"
     ]
    }
   ],
   "source": [
    "np.random.seed(0)\n",
    "print(\"p-value: %f\" % permutation_test(bt_smp_no_avary,bt_smp_yes_avary, max_permutations = 10000))"
   ]
  },
  {
   "cell_type": "code",
   "execution_count": 46,
   "metadata": {},
   "outputs": [
    {
     "name": "stdout",
     "output_type": "stream",
     "text": [
      "p-value: 0.005700\n"
     ]
    }
   ],
   "source": [
    "np.random.seed(0)\n",
    "print(\"p-value: %f\" % permutation_test(yes_avary,no_avary , max_permutations = 10000))"
   ]
  },
  {
   "cell_type": "code",
   "execution_count": 40,
   "metadata": {},
   "outputs": [],
   "source": [
    "# answ_7\n",
    "ans_7=0.0001\n",
    "ans_7_2=0.0057"
   ]
  },
  {
   "cell_type": "code",
   "execution_count": null,
   "metadata": {},
   "outputs": [],
   "source": []
  }
 ],
 "metadata": {
  "kernelspec": {
   "display_name": "Python 3",
   "language": "python",
   "name": "python3"
  },
  "language_info": {
   "codemirror_mode": {
    "name": "ipython",
    "version": 3
   },
   "file_extension": ".py",
   "mimetype": "text/x-python",
   "name": "python",
   "nbconvert_exporter": "python",
   "pygments_lexer": "ipython3",
   "version": "3.6.5"
  }
 },
 "nbformat": 4,
 "nbformat_minor": 2
}
