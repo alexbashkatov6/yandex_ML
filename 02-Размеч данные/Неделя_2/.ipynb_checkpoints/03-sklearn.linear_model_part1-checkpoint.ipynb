{
 "cells": [
  {
   "cell_type": "markdown",
   "metadata": {},
   "source": [
    "# Sklearn"
   ]
  },
  {
   "cell_type": "markdown",
   "metadata": {},
   "source": [
    "## sklearn.liner_model"
   ]
  },
  {
   "cell_type": "markdown",
   "metadata": {},
   "source": [
    "**linear_model:**\n",
    "* RidgeClassifier\n",
    "* SGDClassifier\n",
    "* SGDRegressor\n",
    "* LinearRegression\n",
    "* LogisticRegression\n",
    "* Lasso\n",
    "* etc"
   ]
  },
  {
   "cell_type": "markdown",
   "metadata": {},
   "source": [
    "документация: http://scikit-learn.org/stable/modules/classes.html#module-sklearn.linear_model\n",
    "\n",
    "примеры: http://scikit-learn.org/stable/modules/linear_model.html#linear-model"
   ]
  },
  {
   "cell_type": "code",
   "execution_count": 2,
   "metadata": {},
   "outputs": [],
   "source": [
    "from matplotlib.colors import ListedColormap\n",
    "from sklearn import model_selection, datasets, linear_model, metrics\n",
    "\n",
    "import numpy as np"
   ]
  },
  {
   "cell_type": "code",
   "execution_count": 3,
   "metadata": {},
   "outputs": [
    {
     "name": "stdout",
     "output_type": "stream",
     "text": [
      "Populating the interactive namespace from numpy and matplotlib\n"
     ]
    }
   ],
   "source": [
    "%pylab inline"
   ]
  },
  {
   "cell_type": "markdown",
   "metadata": {},
   "source": [
    "### Генерация данных"
   ]
  },
  {
   "cell_type": "code",
   "execution_count": 8,
   "metadata": {},
   "outputs": [],
   "source": [
    "blobs = datasets.make_blobs(centers = 3, cluster_std = 5.5, random_state=1)"
   ]
  },
  {
   "cell_type": "code",
   "execution_count": 28,
   "metadata": {},
   "outputs": [
    {
     "data": {
      "text/plain": [
       "(array([[ 3.10018206e+00, -8.25197296e+00],\n",
       "        [-5.34382894e+00, -8.68068622e+00],\n",
       "        [-1.79403384e+01, -6.72791079e+00],\n",
       "        [-8.73219146e+00,  2.37712944e-01],\n",
       "        [ 6.84090920e+00, -9.52071938e+00],\n",
       "        [-2.65464651e+00, -7.89710796e+00],\n",
       "        [-3.32449806e+00, -9.91213690e+00],\n",
       "        [-5.63727474e+00, -7.38276756e+00],\n",
       "        [-7.71296538e+00,  1.07024703e+01],\n",
       "        [ 1.02728990e+00,  3.99084545e+00],\n",
       "        [-1.02105378e+01, -1.28400965e+01],\n",
       "        [-9.32769551e+00,  2.25881295e+00],\n",
       "        [-7.67234083e+00, -1.15487195e+01],\n",
       "        [-5.76893052e+00,  1.37149902e+01],\n",
       "        [ 4.98396633e+00, -1.85832132e+01],\n",
       "        [-1.64003865e+00, -6.97879165e+00],\n",
       "        [-5.78616211e+00, -4.39919537e+00],\n",
       "        [-5.43900976e+00, -2.42141159e-01],\n",
       "        [-1.18889077e+01, -3.71356583e+00],\n",
       "        [-1.60197277e+01, -3.02174517e+00],\n",
       "        [-3.96969615e+00, -6.82917410e+00],\n",
       "        [-1.14619143e+01, -3.77396854e+00],\n",
       "        [-5.69648680e+00, -9.78475444e+00],\n",
       "        [ 9.51551224e-02,  3.03495280e+00],\n",
       "        [-1.20617797e+01, -7.46636579e+00],\n",
       "        [-8.77052444e+00, -2.15448358e+01],\n",
       "        [-4.63737774e+00, -8.70408189e+00],\n",
       "        [-8.62314619e-03,  2.46911571e+00],\n",
       "        [ 6.38203375e+00, -6.92428403e+00],\n",
       "        [-4.20171233e+00, -1.44471057e+01],\n",
       "        [-3.13294434e+00,  7.32344494e+00],\n",
       "        [-7.94341000e+00,  2.48510490e+00],\n",
       "        [-9.90890170e+00, -1.36368757e+01],\n",
       "        [-2.71465544e+00, -4.75469434e-01],\n",
       "        [-1.04563336e+00, -2.09428422e+00],\n",
       "        [-8.09101593e+00, -8.71283040e+00],\n",
       "        [-3.40366416e+00, -2.93498825e+00],\n",
       "        [-1.75498578e+01, -2.21997189e+00],\n",
       "        [-1.09927742e+01, -7.27491200e+00],\n",
       "        [-7.81532828e+00, -8.80802614e+00],\n",
       "        [-5.52122426e+00, -8.55534798e+00],\n",
       "        [-8.06970962e+00, -1.11709073e+01],\n",
       "        [-3.43285453e+00,  2.29419092e+00],\n",
       "        [-1.67630322e+01, -9.25392319e-01],\n",
       "        [-8.90706404e+00, -3.29880100e+00],\n",
       "        [-4.15282290e+00, -7.39587145e+00],\n",
       "        [ 3.29918906e+00,  7.17020873e+00],\n",
       "        [ 1.03611048e+01, -3.27423998e+00],\n",
       "        [-7.80476682e+00,  5.69577621e+00],\n",
       "        [-2.33545615e+00, -7.40242020e-01],\n",
       "        [-1.12205173e+01, -5.05751793e+00],\n",
       "        [-3.44010831e+00, -1.71041390e+01],\n",
       "        [-6.63686598e+00, -4.75213666e+00],\n",
       "        [-9.26971224e+00, -3.62119720e+00],\n",
       "        [-9.98685667e-01,  7.80110697e+00],\n",
       "        [-4.34121990e+00, -9.11409548e+00],\n",
       "        [-1.34077171e+01, -1.14172360e-01],\n",
       "        [-2.99205489e+00,  6.86571107e+00],\n",
       "        [-1.42738430e+00,  7.61197354e+00],\n",
       "        [ 1.16155411e+00,  2.76697928e+00],\n",
       "        [-8.97162485e+00, -1.69806449e+00],\n",
       "        [-1.06229240e+01, -3.19505020e+00],\n",
       "        [-4.29736571e+00, -1.04048575e+00],\n",
       "        [-1.01331058e+01, -8.21673745e+00],\n",
       "        [-2.02166128e+01,  2.84555362e+00],\n",
       "        [ 2.58131936e-01, -9.73342135e+00],\n",
       "        [-5.80874858e+00,  1.12972647e+01],\n",
       "        [-1.40639553e+01, -6.42871564e+00],\n",
       "        [-2.60791505e+00, -4.21731430e-01],\n",
       "        [-7.66849356e+00, -3.52797817e+00],\n",
       "        [-7.77850847e+00, -6.88666670e-01],\n",
       "        [-5.92465202e+00, -9.19870186e+00],\n",
       "        [-3.75212614e+00, -5.84167598e+00],\n",
       "        [ 2.95484887e+00,  9.52755132e+00],\n",
       "        [ 7.46935207e+00,  8.48773275e+00],\n",
       "        [-8.26172029e+00, -1.50754552e+01],\n",
       "        [-2.28600832e+00, -4.02596409e+00],\n",
       "        [-6.82470272e+00, -9.39795644e+00],\n",
       "        [-4.56450454e+00, -1.49483755e+00],\n",
       "        [-1.24569196e+01,  2.78144383e+00],\n",
       "        [ 4.56440173e+00,  1.27654824e+01],\n",
       "        [-1.65936867e+01,  7.95050699e-01],\n",
       "        [-9.11750862e+00,  8.65580519e-01],\n",
       "        [ 3.41074071e+00, -2.04241626e+00],\n",
       "        [-5.46369404e+00,  2.22434547e+00],\n",
       "        [ 4.57617203e+00, -1.64291210e+00],\n",
       "        [-6.09524740e-01,  1.59578931e+01],\n",
       "        [ 3.29514782e+00,  6.45986643e-01],\n",
       "        [-1.16818346e+01,  6.00511987e-01],\n",
       "        [-5.35141363e+00,  4.33683457e+00],\n",
       "        [-6.83020049e-01, -6.12101816e+00],\n",
       "        [-1.38011725e+00,  9.03013813e-01],\n",
       "        [-2.80847819e+00,  7.63291742e+00],\n",
       "        [-1.36863551e+01, -1.87674772e+00],\n",
       "        [-3.82991511e+00, -1.70439559e+00],\n",
       "        [-1.35134687e+00,  3.87515995e+00],\n",
       "        [-6.96913044e+00, -1.43243311e+01],\n",
       "        [-8.88296171e-02,  9.27476627e+00],\n",
       "        [-2.60464798e+00, -2.40879658e+00],\n",
       "        [ 7.93690480e+00,  2.19851914e-01]]),\n",
       " array([0, 1, 1, 1, 2, 2, 2, 1, 0, 0, 1, 1, 2, 0, 2, 2, 2, 0, 1, 1, 2, 1,\n",
       "        2, 0, 1, 2, 2, 0, 0, 2, 0, 0, 2, 0, 1, 2, 1, 1, 1, 2, 2, 1, 0, 1,\n",
       "        1, 2, 0, 0, 0, 0, 1, 2, 2, 2, 0, 2, 1, 1, 0, 0, 1, 2, 2, 1, 1, 2,\n",
       "        0, 2, 0, 1, 1, 1, 2, 0, 0, 1, 2, 2, 0, 1, 0, 1, 1, 2, 0, 0, 0, 0,\n",
       "        1, 0, 2, 0, 0, 1, 1, 2, 2, 0, 2, 0]))"
      ]
     },
     "execution_count": 28,
     "metadata": {},
     "output_type": "execute_result"
    }
   ],
   "source": [
    "blobs"
   ]
  },
  {
   "cell_type": "code",
   "execution_count": 17,
   "metadata": {},
   "outputs": [
    {
     "data": {
      "text/plain": [
       "<matplotlib.collections.PathCollection at 0x1f2a80b2548>"
      ]
     },
     "execution_count": 17,
     "metadata": {},
     "output_type": "execute_result"
    },
    {
     "data": {
      "image/png": "[encoded data removed]",
      "text/plain": [
       "<Figure size 576x576 with 1 Axes>"
      ]
     },
     "metadata": {
      "needs_background": "light"
     },
     "output_type": "display_data"
    }
   ],
   "source": [
    "colors = ListedColormap(['red', 'blue','green'])\n",
    "\n",
    "pylab.figure(figsize(8, 8))\n",
    "pylab.scatter([x[0] for x in blobs[0]], [x[1] for x in blobs[0]], c=blobs[1], cmap=colors)"
   ]
  },
  {
   "cell_type": "code",
   "execution_count": 15,
   "metadata": {},
   "outputs": [],
   "source": [
    "train_data, test_data, train_labels, test_labels = model_selection.train_test_split(blobs[0], blobs[1], \n",
    "                                                                                    test_size = 0.3,\n",
    "                                                                                    random_state = 1)"
   ]
  },
  {
   "cell_type": "markdown",
   "metadata": {},
   "source": [
    "### Линейная классификация"
   ]
  },
  {
   "cell_type": "markdown",
   "metadata": {},
   "source": [
    "#### RidgeClassifier"
   ]
  },
  {
   "cell_type": "code",
   "execution_count": 18,
   "metadata": {},
   "outputs": [],
   "source": [
    "#создание объекта - классификатора\n",
    "ridge_classifier = linear_model.RidgeClassifier(random_state = 1)"
   ]
  },
  {
   "cell_type": "code",
   "execution_count": 19,
   "metadata": {},
   "outputs": [
    {
     "data": {
      "text/plain": [
       "RidgeClassifier(alpha=1.0, class_weight=None, copy_X=True, fit_intercept=True,\n",
       "                max_iter=None, normalize=False, random_state=1, solver='auto',\n",
       "                tol=0.001)"
      ]
     },
     "execution_count": 19,
     "metadata": {},
     "output_type": "execute_result"
    }
   ],
   "source": [
    "#обучение классификатора\n",
    "ridge_classifier.fit(train_data, train_labels)"
   ]
  },
  {
   "cell_type": "code",
   "execution_count": 20,
   "metadata": {},
   "outputs": [],
   "source": [
    "#применение обученного классификатора\n",
    "ridge_predictions = ridge_classifier.predict(test_data)"
   ]
  },
  {
   "cell_type": "code",
   "execution_count": 21,
   "metadata": {},
   "outputs": [
    {
     "name": "stdout",
     "output_type": "stream",
     "text": [
      "[0 0 0 1 1 0 1 1 1 2 0 2 1 2 2 2 0 1 0 1 1 0 0 2 1 2 1 0 0 1]\n"
     ]
    }
   ],
   "source": [
    "print (test_labels)"
   ]
  },
  {
   "cell_type": "code",
   "execution_count": 22,
   "metadata": {},
   "outputs": [
    {
     "name": "stdout",
     "output_type": "stream",
     "text": [
      "[0 0 0 1 1 0 2 1 1 2 0 2 1 2 2 2 1 1 0 2 1 0 0 0 1 2 0 0 0 1]\n"
     ]
    }
   ],
   "source": [
    "print (ridge_predictions)"
   ]
  },
  {
   "cell_type": "code",
   "execution_count": 23,
   "metadata": {},
   "outputs": [
    {
     "data": {
      "text/plain": [
       "0.8333333333333334"
      ]
     },
     "execution_count": 23,
     "metadata": {},
     "output_type": "execute_result"
    }
   ],
   "source": [
    "#оценка качества классификации\n",
    "metrics.accuracy_score(test_labels, ridge_predictions)"
   ]
  },
  {
   "cell_type": "code",
   "execution_count": 24,
   "metadata": {},
   "outputs": [
    {
     "data": {
      "text/plain": [
       "array([[ 0.07269181,  0.07476418],\n",
       "       [-0.08764257, -0.00230083],\n",
       "       [ 0.01495076, -0.07246335]])"
      ]
     },
     "execution_count": 24,
     "metadata": {},
     "output_type": "execute_result"
    }
   ],
   "source": [
    "ridge_classifier.coef_"
   ]
  },
  {
   "cell_type": "code",
   "execution_count": 25,
   "metadata": {},
   "outputs": [
    {
     "data": {
      "text/plain": [
       "array([ 0.19360465, -0.80211145, -0.39149319])"
      ]
     },
     "execution_count": 25,
     "metadata": {},
     "output_type": "execute_result"
    }
   ],
   "source": [
    "ridge_classifier.intercept_ "
   ]
  },
  {
   "cell_type": "markdown",
   "metadata": {},
   "source": [
    "#### LogisticRegression"
   ]
  },
  {
   "cell_type": "code",
   "execution_count": 29,
   "metadata": {},
   "outputs": [],
   "source": [
    "log_regressor = linear_model.LogisticRegression(random_state = 1)"
   ]
  },
  {
   "cell_type": "code",
   "execution_count": 30,
   "metadata": {},
   "outputs": [
    {
     "data": {
      "text/plain": [
       "LogisticRegression(C=1.0, class_weight=None, dual=False, fit_intercept=True,\n",
       "                   intercept_scaling=1, l1_ratio=None, max_iter=100,\n",
       "                   multi_class='auto', n_jobs=None, penalty='l2',\n",
       "                   random_state=1, solver='lbfgs', tol=0.0001, verbose=0,\n",
       "                   warm_start=False)"
      ]
     },
     "execution_count": 30,
     "metadata": {},
     "output_type": "execute_result"
    }
   ],
   "source": [
    "log_regressor.fit(train_data, train_labels)"
   ]
  },
  {
   "cell_type": "code",
   "execution_count": 40,
   "metadata": {},
   "outputs": [],
   "source": [
    "#log_regressor.intercept_"
   ]
  },
  {
   "cell_type": "code",
   "execution_count": 31,
   "metadata": {},
   "outputs": [],
   "source": [
    "lr_predictions = log_regressor.predict(test_data)"
   ]
  },
  {
   "cell_type": "code",
   "execution_count": 32,
   "metadata": {},
   "outputs": [],
   "source": [
    "lr_proba_predictions = log_regressor.predict_proba(test_data)"
   ]
  },
  {
   "cell_type": "code",
   "execution_count": 33,
   "metadata": {},
   "outputs": [
    {
     "name": "stdout",
     "output_type": "stream",
     "text": [
      "[0 0 0 1 1 0 1 1 1 2 0 2 1 2 2 2 0 1 0 1 1 0 0 2 1 2 1 0 0 1]\n"
     ]
    }
   ],
   "source": [
    "print (test_labels)"
   ]
  },
  {
   "cell_type": "code",
   "execution_count": 34,
   "metadata": {},
   "outputs": [
    {
     "name": "stdout",
     "output_type": "stream",
     "text": [
      "[0 0 0 1 1 1 2 1 1 2 0 2 1 2 2 2 1 1 2 2 1 0 0 2 1 2 2 0 0 1]\n"
     ]
    }
   ],
   "source": [
    "print (lr_predictions)"
   ]
  },
  {
   "cell_type": "code",
   "execution_count": 35,
   "metadata": {},
   "outputs": [
    {
     "name": "stdout",
     "output_type": "stream",
     "text": [
      "[[9.99687779e-01 7.31995863e-05 2.39021906e-04]\n",
      " [4.28397197e-01 3.45915556e-01 2.25687248e-01]\n",
      " [4.68027877e-01 1.72391279e-01 3.59580844e-01]\n",
      " [1.00731236e-03 9.70790442e-01 2.82022453e-02]\n",
      " [2.29370013e-03 9.09500995e-01 8.82053047e-02]\n",
      " [2.32427356e-01 4.03282826e-01 3.64289818e-01]\n",
      " [1.98779786e-01 2.40200636e-01 5.61019578e-01]\n",
      " [6.74226498e-02 7.38113914e-01 1.94463436e-01]\n",
      " [3.05725908e-02 5.65909881e-01 4.03517529e-01]\n",
      " [4.63646705e-02 5.41890050e-02 8.99446324e-01]\n",
      " [9.51085054e-01 2.85538385e-02 2.03611078e-02]\n",
      " [3.95558357e-03 4.24081330e-01 5.71963087e-01]\n",
      " [4.77239522e-03 9.18181696e-01 7.70459092e-02]\n",
      " [3.08241375e-02 4.54307580e-01 5.14868282e-01]\n",
      " [5.97852714e-04 6.50583595e-02 9.34343788e-01]\n",
      " [2.47411268e-04 4.25003225e-01 5.74749364e-01]\n",
      " [1.90626294e-01 6.21302378e-01 1.88071328e-01]\n",
      " [1.84174330e-02 6.63356245e-01 3.18226322e-01]\n",
      " [2.15671925e-01 3.30174555e-01 4.54153520e-01]\n",
      " [2.95589033e-04 4.72445264e-01 5.27259147e-01]\n",
      " [4.10190083e-05 9.51042027e-01 4.89169544e-02]\n",
      " [9.97836253e-01 5.30604725e-04 1.63314266e-03]\n",
      " [9.91970039e-01 3.50483179e-03 4.52512952e-03]\n",
      " [2.68904679e-01 3.04114408e-01 4.26980913e-01]\n",
      " [4.13674691e-04 9.46284646e-01 5.33016797e-02]\n",
      " [3.64763400e-03 4.47233640e-01 5.49118726e-01]\n",
      " [2.55723102e-01 2.69999453e-01 4.74277445e-01]\n",
      " [8.92054055e-01 2.58255044e-02 8.21204404e-02]\n",
      " [9.94899214e-01 9.07767815e-04 4.19301791e-03]\n",
      " [1.58939007e-03 6.97247999e-01 3.01162611e-01]]\n"
     ]
    }
   ],
   "source": [
    "print (lr_proba_predictions)"
   ]
  },
  {
   "cell_type": "code",
   "execution_count": 36,
   "metadata": {},
   "outputs": [
    {
     "name": "stdout",
     "output_type": "stream",
     "text": [
      "0.8\n"
     ]
    }
   ],
   "source": [
    "print (metrics.accuracy_score(test_labels, lr_predictions))"
   ]
  },
  {
   "cell_type": "code",
   "execution_count": 37,
   "metadata": {},
   "outputs": [
    {
     "name": "stdout",
     "output_type": "stream",
     "text": [
      "0.8333333333333334\n"
     ]
    }
   ],
   "source": [
    "print (metrics.accuracy_score(test_labels, ridge_predictions))"
   ]
  },
  {
   "cell_type": "markdown",
   "metadata": {},
   "source": [
    "### Оценка качества по cross-validation"
   ]
  },
  {
   "cell_type": "markdown",
   "metadata": {},
   "source": [
    "#### cross_val_score"
   ]
  },
  {
   "cell_type": "code",
   "execution_count": 41,
   "metadata": {},
   "outputs": [],
   "source": [
    "ridge_scoring = model_selection.cross_val_score(ridge_classifier, blobs[0], blobs[1], scoring = 'accuracy', cv = 10)"
   ]
  },
  {
   "cell_type": "code",
   "execution_count": 42,
   "metadata": {},
   "outputs": [],
   "source": [
    "lr_scoring = model_selection.cross_val_score(log_regressor, blobs[0], blobs[1], scoring = 'accuracy', cv = 10)"
   ]
  },
  {
   "cell_type": "code",
   "execution_count": 43,
   "metadata": {},
   "outputs": [
    {
     "data": {
      "text/plain": [
       "array([0.8, 0.6, 0.9, 0.8, 0.9, 0.9, 0.7, 0.5, 0.9, 0.7])"
      ]
     },
     "execution_count": 43,
     "metadata": {},
     "output_type": "execute_result"
    }
   ],
   "source": [
    "lr_scoring"
   ]
  },
  {
   "cell_type": "code",
   "execution_count": 44,
   "metadata": {},
   "outputs": [
    {
     "name": "stdout",
     "output_type": "stream",
     "text": [
      "Ridge mean:0.7900000000000001, max:0.9, min:0.5, std:0.12206555615733704\n"
     ]
    }
   ],
   "source": [
    "print ('Ridge mean:{}, max:{}, min:{}, std:{}'.format(ridge_scoring.mean(), ridge_scoring.max(), \n",
    "                                                     ridge_scoring.min(), ridge_scoring.std()))"
   ]
  },
  {
   "cell_type": "code",
   "execution_count": 45,
   "metadata": {},
   "outputs": [
    {
     "name": "stdout",
     "output_type": "stream",
     "text": [
      "Log mean:0.77, max:0.9, min:0.5, std:0.13453624047073712\n"
     ]
    }
   ],
   "source": [
    "print ('Log mean:{}, max:{}, min:{}, std:{}'.format(lr_scoring.mean(), lr_scoring.max(), \n",
    "                                                   lr_scoring.min(), lr_scoring.std()))"
   ]
  },
  {
   "cell_type": "markdown",
   "metadata": {},
   "source": [
    "#### cross_val_score с заданными scorer и cv_strategy"
   ]
  },
  {
   "cell_type": "code",
   "execution_count": 46,
   "metadata": {},
   "outputs": [],
   "source": [
    "scorer = metrics.make_scorer(metrics.accuracy_score)"
   ]
  },
  {
   "cell_type": "code",
   "execution_count": 49,
   "metadata": {},
   "outputs": [],
   "source": [
    "cv_strategy = model_selection.StratifiedShuffleSplit(blobs[1] , test_size = 0.3, random_state = 2) #, n_iter = 20"
   ]
  },
  {
   "cell_type": "code",
   "execution_count": null,
   "metadata": {
    "collapsed": true
   },
   "outputs": [],
   "source": [
    "ridge_scoring = cross_validation.cross_val_score(ridge_classifier, blobs[0], blobs[1], scoring = scorer, cv = cv_strategy)"
   ]
  },
  {
   "cell_type": "code",
   "execution_count": null,
   "metadata": {
    "collapsed": true
   },
   "outputs": [],
   "source": [
    "lr_scoring = cross_validation.cross_val_score(log_regressor, blobs[0], blobs[1], scoring = scorer, cv = cv_strategy)"
   ]
  },
  {
   "cell_type": "code",
   "execution_count": null,
   "metadata": {},
   "outputs": [],
   "source": [
    "print ('Ridge mean:{}, max:{}, min:{}, std:{}'.format(ridge_scoring.mean(), ridge_scoring.max(), \n",
    "                                                     ridge_scoring.min(), ridge_scoring.std()))"
   ]
  },
  {
   "cell_type": "code",
   "execution_count": null,
   "metadata": {},
   "outputs": [],
   "source": [
    "print ('Log mean:{}, max:{}, min:{}, std:{}'.format(lr_scoring.mean(), lr_scoring.max(), \n",
    "                                                   lr_scoring.min(), lr_scoring.std()))"
   ]
  }
 ],
 "metadata": {
  "kernelspec": {
   "display_name": "Python 3",
   "language": "python",
   "name": "python3"
  },
  "language_info": {
   "codemirror_mode": {
    "name": "ipython",
    "version": 3
   },
   "file_extension": ".py",
   "mimetype": "text/x-python",
   "name": "python",
   "nbconvert_exporter": "python",
   "pygments_lexer": "ipython3",
   "version": "3.7.6"
  }
 },
 "nbformat": 4,
 "nbformat_minor": 1
}
